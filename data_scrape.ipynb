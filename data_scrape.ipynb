{
 "cells": [
  {
   "cell_type": "code",
   "execution_count": 1,
   "metadata": {},
   "outputs": [],
   "source": [
    "import requests\n",
    "import base64\n",
    "import json\n",
    "import pprint\n",
    "import pandas as pd\n",
    "from datetime import datetime\n",
    "import logging\n",
    "\n",
    "from stubhub_params import (\n",
    "    CONSUMER_KEY,\n",
    "    CONSUMER_SECRET,\n",
    "    STUBHUB_USERNAME,\n",
    "    STUBHUB_PASSWORD\n",
    ")\n",
    "\n",
    "pd.options.display.max_columns = 100"
   ]
  },
  {
   "cell_type": "code",
   "execution_count": 2,
   "metadata": {},
   "outputs": [],
   "source": [
    "combo = CONSUMER_KEY + ':' + CONSUMER_SECRET\n",
    "basic_authorization_token = base64.b64encode(combo.encode('utf-8'))"
   ]
  },
  {
   "cell_type": "code",
   "execution_count": 4,
   "metadata": {},
   "outputs": [],
   "source": [
    "## Generate access token\n",
    "\n",
    "headers = {\n",
    "    'Authorization': f'Basic {basic_authorization_token.decode(\"utf-8\")}',\n",
    "    'Content-Type': 'application/json',\n",
    "}\n",
    "\n",
    "params = (\n",
    "    ('grant_type', 'password'),\n",
    ")\n",
    "\n",
    "data = json.dumps(\n",
    "    {\"username\": STUBHUB_USERNAME,\n",
    "     \"password\": STUBHUB_PASSWORD}\n",
    ")\n",
    "url = 'https://api.stubhub.com/sellers/oauth/accesstoken'\n",
    "response = requests.post(url, headers=headers, params=params, data=data)\n",
    "\n"
   ]
  },
  {
   "cell_type": "code",
   "execution_count": 5,
   "metadata": {},
   "outputs": [],
   "source": [
    "access_token = response.json()['access_token']"
   ]
  },
  {
   "cell_type": "code",
   "execution_count": 6,
   "metadata": {},
   "outputs": [],
   "source": [
    "headers = {\n",
    "    'Authorization': f'Bearer {access_token}',\n",
    "    'Accept': 'application/json',\n",
    "}\n",
    "\n",
    "params = (\n",
    "    ('name', 'Hamilton New York'),\n",
    "    ('rows','500')\n",
    ")\n",
    "\n",
    "response = requests.get('https://api.stubhub.com/sellers/search/events/v3', headers=headers, params=params)"
   ]
  },
  {
   "cell_type": "markdown",
   "metadata": {},
   "source": [
    "### Get Date and ID of events"
   ]
  },
  {
   "cell_type": "code",
   "execution_count": 7,
   "metadata": {},
   "outputs": [],
   "source": [
    "hmltn_dts = pd.DataFrame(response.json()['events'])[['eventDateLocal','id']]"
   ]
  },
  {
   "cell_type": "code",
   "execution_count": 8,
   "metadata": {},
   "outputs": [],
   "source": [
    "hmltn_dts['date_time'] = pd.to_datetime(hmltn_dts['eventDateLocal'].str[:19])\n",
    "hmltn_dts['day_of_week']  = hmltn_dts['date_time'].dt.day_name()\n",
    "hmltn_dts['time'] = hmltn_dts['date_time'].dt.hour\n",
    "hmltn_dts = hmltn_dts.set_index('id')"
   ]
  },
  {
   "cell_type": "code",
   "execution_count": 9,
   "metadata": {
    "scrolled": true
   },
   "outputs": [
    {
     "data": {
      "text/html": [
       "<div>\n",
       "<style scoped>\n",
       "    .dataframe tbody tr th:only-of-type {\n",
       "        vertical-align: middle;\n",
       "    }\n",
       "\n",
       "    .dataframe tbody tr th {\n",
       "        vertical-align: top;\n",
       "    }\n",
       "\n",
       "    .dataframe thead th {\n",
       "        text-align: right;\n",
       "    }\n",
       "</style>\n",
       "<table border=\"1\" class=\"dataframe\">\n",
       "  <thead>\n",
       "    <tr style=\"text-align: right;\">\n",
       "      <th></th>\n",
       "      <th>eventDateLocal</th>\n",
       "      <th>date_time</th>\n",
       "      <th>day_of_week</th>\n",
       "      <th>time</th>\n",
       "    </tr>\n",
       "    <tr>\n",
       "      <th>id</th>\n",
       "      <th></th>\n",
       "      <th></th>\n",
       "      <th></th>\n",
       "      <th></th>\n",
       "    </tr>\n",
       "  </thead>\n",
       "  <tbody>\n",
       "    <tr>\n",
       "      <th>104174354</th>\n",
       "      <td>2020-01-08T14:00:00-0500</td>\n",
       "      <td>2020-01-08 14:00:00</td>\n",
       "      <td>Wednesday</td>\n",
       "      <td>14</td>\n",
       "    </tr>\n",
       "    <tr>\n",
       "      <th>104174375</th>\n",
       "      <td>2020-02-01T14:00:00-0500</td>\n",
       "      <td>2020-02-01 14:00:00</td>\n",
       "      <td>Saturday</td>\n",
       "      <td>14</td>\n",
       "    </tr>\n",
       "    <tr>\n",
       "      <th>104444563</th>\n",
       "      <td>2019-12-14T14:01:00-0500</td>\n",
       "      <td>2019-12-14 14:01:00</td>\n",
       "      <td>Saturday</td>\n",
       "      <td>14</td>\n",
       "    </tr>\n",
       "    <tr>\n",
       "      <th>104174386</th>\n",
       "      <td>2020-02-11T19:00:00-0500</td>\n",
       "      <td>2020-02-11 19:00:00</td>\n",
       "      <td>Tuesday</td>\n",
       "      <td>19</td>\n",
       "    </tr>\n",
       "    <tr>\n",
       "      <th>104174384</th>\n",
       "      <td>2020-02-08T20:00:00-0500</td>\n",
       "      <td>2020-02-08 20:00:00</td>\n",
       "      <td>Saturday</td>\n",
       "      <td>20</td>\n",
       "    </tr>\n",
       "  </tbody>\n",
       "</table>\n",
       "</div>"
      ],
      "text/plain": [
       "                     eventDateLocal           date_time day_of_week  time\n",
       "id                                                                       \n",
       "104174354  2020-01-08T14:00:00-0500 2020-01-08 14:00:00   Wednesday    14\n",
       "104174375  2020-02-01T14:00:00-0500 2020-02-01 14:00:00    Saturday    14\n",
       "104444563  2019-12-14T14:01:00-0500 2019-12-14 14:01:00    Saturday    14\n",
       "104174386  2020-02-11T19:00:00-0500 2020-02-11 19:00:00     Tuesday    19\n",
       "104174384  2020-02-08T20:00:00-0500 2020-02-08 20:00:00    Saturday    20"
      ]
     },
     "execution_count": 9,
     "metadata": {},
     "output_type": "execute_result"
    }
   ],
   "source": [
    "hmltn_dts.head()"
   ]
  },
  {
   "cell_type": "code",
   "execution_count": 10,
   "metadata": {
    "scrolled": true
   },
   "outputs": [],
   "source": [
    "ids_of_int = hmltn_dts[((hmltn_dts['day_of_week']=='Friday')|\n",
    "                       (hmltn_dts['day_of_week']=='Saturday'))\n",
    "                    &(hmltn_dts['time']==20)].index.values"
   ]
  },
  {
   "cell_type": "code",
   "execution_count": 11,
   "metadata": {},
   "outputs": [],
   "source": [
    "headers = {\n",
    "    'Authorization': f'Bearer {access_token}',\n",
    "    'Accept': 'application/json',\n",
    "}\n",
    "\n",
    "params = (\n",
    "    ('eventId', '104174936'),\n",
    "    ('quantity', '>1'),\n",
    "    ('rows','1000')\n",
    ")\n",
    "\n",
    "response = requests.get('https://api.stubhub.com/sellers/find/listings/v3/', headers=headers, params=params)"
   ]
  },
  {
   "cell_type": "code",
   "execution_count": 12,
   "metadata": {},
   "outputs": [],
   "source": [
    "def get_rel_data(response, dt_event):\n",
    "    '''\n",
    "    takes response and extracts relevant data\n",
    "    '''\n",
    "    listings = pd.DataFrame(response.json()['listings'])\n",
    "    listings['price'] = listings['pricePerProduct'].apply(lambda x: x['amount'])\n",
    "    cols_interest = ['listingId','quantity','row','sectionName','zone','price']\n",
    "    if set(cols_interest).issubset(listings.columns):\n",
    "        return listings[cols_interest].assign(\n",
    "            dt_event = dt_event,\n",
    "            dt_pull = datetime.now().strftime(\"%Y-%m-%d %H:%M:%S\")\n",
    "        )\n",
    "    else:\n",
    "        return pd.DataFrame()"
   ]
  },
  {
   "cell_type": "code",
   "execution_count": 18,
   "metadata": {
    "scrolled": true
   },
   "outputs": [
    {
     "name": "stdout",
     "output_type": "stream",
     "text": [
      "0\n",
      "1\n",
      "2\n",
      "3\n",
      "4\n",
      "5\n",
      "6\n",
      "7\n",
      "8\n",
      "9\n",
      "10\n",
      "11\n",
      "12\n",
      "13\n",
      "14\n",
      "15\n",
      "16\n",
      "17\n",
      "18\n",
      "19\n",
      "20\n",
      "21\n",
      "22\n",
      "23\n",
      "24\n",
      "25\n",
      "26\n",
      "27\n",
      "28\n",
      "29\n",
      "30\n",
      "31\n",
      "32\n",
      "33\n",
      "34\n",
      "35\n",
      "36\n",
      "37\n",
      "38\n",
      "39\n",
      "40\n",
      "41\n",
      "42\n",
      "43\n",
      "44\n",
      "45\n",
      "46\n",
      "47\n",
      "48\n",
      "49\n",
      "50\n",
      "51\n",
      "52\n",
      "53\n",
      "54\n",
      "55\n",
      "56\n",
      "57\n",
      "58\n",
      "59\n",
      "60\n",
      "61\n",
      "62\n",
      "63\n",
      "64\n",
      "65\n",
      "66\n",
      "67\n",
      "68\n",
      "69\n",
      "70\n",
      "71\n",
      "72\n",
      "73\n",
      "74\n",
      "75\n",
      "76\n",
      "77\n",
      "78\n",
      "79\n",
      "80\n",
      "81\n",
      "82\n",
      "83\n",
      "84\n",
      "85\n",
      "86\n",
      "87\n",
      "88\n",
      "89\n",
      "90\n",
      "91\n",
      "92\n",
      "93\n",
      "94\n",
      "95\n",
      "96\n",
      "97\n",
      "98\n",
      "99\n",
      "100\n",
      "101\n",
      "102\n",
      "103\n",
      "104\n",
      "105\n",
      "106\n",
      "107\n",
      "108\n",
      "109\n",
      "110\n",
      "111\n",
      "112\n",
      "113\n",
      "114\n",
      "115\n"
     ]
    }
   ],
   "source": [
    "all_listings = pd.DataFrame()\n",
    "problem_ids = []\n",
    "\n",
    "for ii, id_curr in enumerate(ids_of_int):\n",
    "    dt_event = hmltn_dts.loc[id_curr]['date_time']\n",
    "    params = (\n",
    "        ('eventId', str(id_curr)),\n",
    "        ('quantity', '>1'),\n",
    "        ('rows','1000')\n",
    "    )\n",
    "    response = requests.get('https://api.stubhub.com/sellers/find/listings/v3/', headers=headers, params=params)\n",
    "    #check to make sure there are listings to look at\n",
    "    if response.json()['totalListings']>0:\n",
    "        listings_curr = get_rel_data(response, dt_event)\n",
    "        if listings_curr.shape[0]>0:\n",
    "            all_listings = all_listings.append(listings_curr).reset_index(drop=True)\n",
    "        else:\n",
    "            problem_ids.append(id_curr)\n",
    "    else:\n",
    "        problem_ids.append(id_curr)\n",
    "    print(ii)"
   ]
  },
  {
   "cell_type": "code",
   "execution_count": 21,
   "metadata": {
    "scrolled": true
   },
   "outputs": [
    {
     "data": {
      "text/html": [
       "<div>\n",
       "<style scoped>\n",
       "    .dataframe tbody tr th:only-of-type {\n",
       "        vertical-align: middle;\n",
       "    }\n",
       "\n",
       "    .dataframe tbody tr th {\n",
       "        vertical-align: top;\n",
       "    }\n",
       "\n",
       "    .dataframe thead th {\n",
       "        text-align: right;\n",
       "    }\n",
       "</style>\n",
       "<table border=\"1\" class=\"dataframe\">\n",
       "  <thead>\n",
       "    <tr style=\"text-align: right;\">\n",
       "      <th></th>\n",
       "      <th>listingId</th>\n",
       "      <th>quantity</th>\n",
       "      <th>row</th>\n",
       "      <th>sectionName</th>\n",
       "      <th>zone</th>\n",
       "      <th>price</th>\n",
       "      <th>dt_event</th>\n",
       "      <th>dt_pull</th>\n",
       "    </tr>\n",
       "  </thead>\n",
       "  <tbody>\n",
       "    <tr>\n",
       "      <th>4509</th>\n",
       "      <td>1539423882</td>\n",
       "      <td>2</td>\n",
       "      <td>A</td>\n",
       "      <td>Mezzanine Front Center</td>\n",
       "      <td>Mezzanine Front</td>\n",
       "      <td>750.0</td>\n",
       "      <td>2019-11-22 20:00:00</td>\n",
       "      <td>2019-11-17 10:46:06</td>\n",
       "    </tr>\n",
       "    <tr>\n",
       "      <th>4899</th>\n",
       "      <td>1539426449</td>\n",
       "      <td>2</td>\n",
       "      <td>A</td>\n",
       "      <td>Mezzanine Front Center</td>\n",
       "      <td>Mezzanine Front</td>\n",
       "      <td>900.0</td>\n",
       "      <td>2019-11-23 20:00:00</td>\n",
       "      <td>2019-11-17 10:46:07</td>\n",
       "    </tr>\n",
       "    <tr>\n",
       "      <th>4892</th>\n",
       "      <td>1539426454</td>\n",
       "      <td>2</td>\n",
       "      <td>B</td>\n",
       "      <td>Mezzanine Front Center</td>\n",
       "      <td>Mezzanine Front</td>\n",
       "      <td>750.0</td>\n",
       "      <td>2019-11-23 20:00:00</td>\n",
       "      <td>2019-11-17 10:46:07</td>\n",
       "    </tr>\n",
       "    <tr>\n",
       "      <th>3347</th>\n",
       "      <td>1473461794</td>\n",
       "      <td>2</td>\n",
       "      <td>C</td>\n",
       "      <td>Mezzanine Front - Left and Right</td>\n",
       "      <td>Mezzanine Front</td>\n",
       "      <td>437.0</td>\n",
       "      <td>2019-11-29 20:00:00</td>\n",
       "      <td>2019-11-17 10:46:00</td>\n",
       "    </tr>\n",
       "    <tr>\n",
       "      <th>3381</th>\n",
       "      <td>1492641546</td>\n",
       "      <td>2</td>\n",
       "      <td>B</td>\n",
       "      <td>Mezzanine Front Center</td>\n",
       "      <td>Mezzanine Front</td>\n",
       "      <td>638.0</td>\n",
       "      <td>2019-11-29 20:00:00</td>\n",
       "      <td>2019-11-17 10:46:00</td>\n",
       "    </tr>\n",
       "  </tbody>\n",
       "</table>\n",
       "</div>"
      ],
      "text/plain": [
       "       listingId  quantity row                       sectionName  \\\n",
       "4509  1539423882         2   A            Mezzanine Front Center   \n",
       "4899  1539426449         2   A            Mezzanine Front Center   \n",
       "4892  1539426454         2   B            Mezzanine Front Center   \n",
       "3347  1473461794         2   C  Mezzanine Front - Left and Right   \n",
       "3381  1492641546         2   B            Mezzanine Front Center   \n",
       "\n",
       "                 zone  price            dt_event              dt_pull  \n",
       "4509  Mezzanine Front  750.0 2019-11-22 20:00:00  2019-11-17 10:46:06  \n",
       "4899  Mezzanine Front  900.0 2019-11-23 20:00:00  2019-11-17 10:46:07  \n",
       "4892  Mezzanine Front  750.0 2019-11-23 20:00:00  2019-11-17 10:46:07  \n",
       "3347  Mezzanine Front  437.0 2019-11-29 20:00:00  2019-11-17 10:46:00  \n",
       "3381  Mezzanine Front  638.0 2019-11-29 20:00:00  2019-11-17 10:46:00  "
      ]
     },
     "execution_count": 21,
     "metadata": {},
     "output_type": "execute_result"
    }
   ],
   "source": [
    "#sample data\n",
    "all_listings[(all_listings['zone']=='Mezzanine Front')\n",
    "             &(all_listings['row']<'D')\n",
    "            ].sort_values('dt_event').head()"
   ]
  },
  {
   "cell_type": "code",
   "execution_count": 22,
   "metadata": {},
   "outputs": [
    {
     "data": {
      "text/plain": [
       "104447347"
      ]
     },
     "execution_count": 22,
     "metadata": {},
     "output_type": "execute_result"
    }
   ],
   "source": [
    "id_curr"
   ]
  },
  {
   "cell_type": "code",
   "execution_count": 23,
   "metadata": {},
   "outputs": [
    {
     "data": {
      "text/plain": [
       "index                                  115\n",
       "eventDateLocal    2020-02-14T20:01:00-0500\n",
       "date_time              2020-02-14 20:01:00\n",
       "day_of_week                         Friday\n",
       "time                                    20\n",
       "Name: 104447347, dtype: object"
      ]
     },
     "execution_count": 23,
     "metadata": {},
     "output_type": "execute_result"
    }
   ],
   "source": [
    "hmltn_dts[((hmltn_dts['day_of_week']=='Friday')|\n",
    "                       (hmltn_dts['day_of_week']=='Saturday'))\n",
    "                    &(hmltn_dts['time']==20)].reset_index().reset_index().set_index('id').loc[id_curr]"
   ]
  },
  {
   "cell_type": "code",
   "execution_count": null,
   "metadata": {},
   "outputs": [],
   "source": []
  }
 ],
 "metadata": {
  "kernelspec": {
   "display_name": "Python [conda env:stubhub]",
   "language": "python",
   "name": "conda-env-stubhub-py"
  },
  "language_info": {
   "codemirror_mode": {
    "name": "ipython",
    "version": 3
   },
   "file_extension": ".py",
   "mimetype": "text/x-python",
   "name": "python",
   "nbconvert_exporter": "python",
   "pygments_lexer": "ipython3",
   "version": "3.7.3"
  }
 },
 "nbformat": 4,
 "nbformat_minor": 2
}
